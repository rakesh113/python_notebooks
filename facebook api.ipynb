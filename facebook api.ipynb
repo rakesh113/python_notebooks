{
 "cells": [
  {
   "cell_type": "code",
   "execution_count": 1,
   "metadata": {
    "collapsed": true
   },
   "outputs": [],
   "source": [
    "import facebook"
   ]
  },
  {
   "cell_type": "code",
   "execution_count": 13,
   "metadata": {},
   "outputs": [],
   "source": [
    "graph = facebook.GraphAPI(access_token=\"EAACEdEose0cBAPpZBLh0grH8P44ZBfARaMZBNZBvdPOKjK5aZBq5ZAROUAZBH3ifN6K6w5RwK6deKEIZA3wTbUwKDTUlZBPHVyRfTrIOSNuTbsrNvI9r4fFsMtwrZB3pa2ZCpOmozwCOWcRzt5WjCvgtwMc3ykmBqIC59kzBxFXLf7eqNaaDnbkWazfwyPe7FSoCRwZD\", version=\"2.2\")"
   ]
  },
  {
   "cell_type": "code",
   "execution_count": 20,
   "metadata": {},
   "outputs": [
    {
     "name": "stdout",
     "output_type": "stream",
     "text": [
      "{'created_time': '2018-05-11T09:08:11+0000', 'story': 'Flying chappal is with Abhishek Kindo and Preetam Kotiann.', 'id': '849517758457240_1693814517360889'}\n"
     ]
    }
   ],
   "source": [
    "post = graph.get_object(id='849517758457240_1693814517360889')\n",
    "print(post)"
   ]
  }
 ],
 "metadata": {
  "kernelspec": {
   "display_name": "Python 3",
   "language": "python",
   "name": "python3"
  },
  "language_info": {
   "codemirror_mode": {
    "name": "ipython",
    "version": 3
   },
   "file_extension": ".py",
   "mimetype": "text/x-python",
   "name": "python",
   "nbconvert_exporter": "python",
   "pygments_lexer": "ipython3",
   "version": "3.6.3"
  }
 },
 "nbformat": 4,
 "nbformat_minor": 2
}
