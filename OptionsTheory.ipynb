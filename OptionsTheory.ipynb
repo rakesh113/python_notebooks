{
 "cells": [
  {
   "cell_type": "code",
   "execution_count": null,
   "metadata": {
    "collapsed": true
   },
   "outputs": [],
   "source": [
    "q = 50\n",
    "cp = 50 * \n",
    "def pos(tot, x, val):\n",
    "    "
   ]
  },
  {
   "cell_type": "code",
   "execution_count": 21,
   "metadata": {},
   "outputs": [],
   "source": [
    "\n",
    "def fn1(x):\n",
    "    pr = 2751.45\n",
    "    stock = -(22 * x) + (97.7-x)*50\n",
    "    option = 0 \n",
    "    if(x-100) > 0:\n",
    "        option = (x-100)*100 - 500\n",
    "    else:\n",
    "        option = -500\n",
    "    interests = 45\n",
    "    return pr + stock + option + interests\n",
    "    "
   ]
  },
  {
   "cell_type": "code",
   "execution_count": 42,
   "metadata": {},
   "outputs": [],
   "source": [
    "import numpy as np\n",
    "\n",
    "arr = range(50,150)\n",
    "\n",
    "profs = [fn1(x) for x in arr]"
   ]
  },
  {
   "cell_type": "code",
   "execution_count": 30,
   "metadata": {},
   "outputs": [],
   "source": [
    "import matplotlib.pyplot as plt\n",
    "%matplotlib inline"
   ]
  },
  {
   "cell_type": "code",
   "execution_count": 43,
   "metadata": {},
   "outputs": [
    {
     "data": {
      "image/png": "[encoded data removed]",
      "text/plain": [
       "<matplotlib.figure.Figure at 0x287696c9da0>"
      ]
     },
     "metadata": {},
     "output_type": "display_data"
    }
   ],
   "source": [
    "plt.plot(arr, profs)\n",
    "plt.plot(arr, [0 for x in arr])\n",
    "#plt.rcParams['figure.figsize'] = [10, 5]\n",
    "#plt.rcParams['figure.dpi'] = 100"
   ]
  },
  {
   "cell_type": "code",
   "execution_count": 44,
   "metadata": {},
   "outputs": [
    {
     "data": {
      "text/plain": [
       "[3581.45,\n",
       " 3509.45,\n",
       " 3437.45,\n",
       " 3365.45,\n",
       " 3293.45,\n",
       " 3221.45,\n",
       " 3149.45,\n",
       " 3077.45,\n",
       " 3005.45,\n",
       " 2933.45,\n",
       " 2861.45,\n",
       " 2789.45,\n",
       " 2717.45,\n",
       " 2645.45,\n",
       " 2573.45,\n",
       " 2501.45,\n",
       " 2429.45,\n",
       " 2357.45,\n",
       " 2285.45,\n",
       " 2213.45,\n",
       " 2141.45,\n",
       " 2069.45,\n",
       " 1997.4499999999998,\n",
       " 1925.4499999999998,\n",
       " 1853.4499999999998,\n",
       " 1781.4499999999998,\n",
       " 1709.4499999999998,\n",
       " 1637.4499999999998,\n",
       " 1565.4499999999998,\n",
       " 1493.4499999999998,\n",
       " 1421.4499999999998,\n",
       " 1349.4499999999998,\n",
       " 1277.4499999999998,\n",
       " 1205.4499999999998,\n",
       " 1133.4499999999998,\n",
       " 1061.4499999999998,\n",
       " 989.4499999999998,\n",
       " 917.4499999999998,\n",
       " 845.4499999999998,\n",
       " 773.4499999999998,\n",
       " 701.4499999999998,\n",
       " 629.4499999999998,\n",
       " 557.4499999999998,\n",
       " 485.45000000000005,\n",
       " 413.45000000000005,\n",
       " 341.45000000000005,\n",
       " 269.45000000000005,\n",
       " 197.44999999999982,\n",
       " 125.44999999999982,\n",
       " 53.44999999999982,\n",
       " -18.550000000000182,\n",
       " 9.449999999999818,\n",
       " 37.44999999999982,\n",
       " 65.44999999999982,\n",
       " 93.44999999999982,\n",
       " 121.44999999999982,\n",
       " 149.44999999999982,\n",
       " 177.44999999999982,\n",
       " 205.44999999999982,\n",
       " 233.44999999999982,\n",
       " 261.4499999999998,\n",
       " 289.4499999999998,\n",
       " 317.4499999999998,\n",
       " 345.4499999999998,\n",
       " 373.4499999999998,\n",
       " 401.4499999999998,\n",
       " 429.4499999999998,\n",
       " 457.4499999999998,\n",
       " 485.4499999999998,\n",
       " 513.4499999999998,\n",
       " 541.4499999999998,\n",
       " 569.4499999999998,\n",
       " 597.4499999999998,\n",
       " 625.4499999999998,\n",
       " 653.4499999999998,\n",
       " 681.4499999999998,\n",
       " 709.4499999999998,\n",
       " 737.4499999999998,\n",
       " 765.4499999999998,\n",
       " 793.4499999999998,\n",
       " 821.4499999999998,\n",
       " 849.4499999999998,\n",
       " 877.4499999999998,\n",
       " 905.4499999999998,\n",
       " 933.4499999999998,\n",
       " 961.4499999999998,\n",
       " 989.4499999999998,\n",
       " 1017.4499999999998,\n",
       " 1045.4499999999998,\n",
       " 1073.4499999999998,\n",
       " 1101.4499999999998,\n",
       " 1129.4499999999998,\n",
       " 1157.4499999999998,\n",
       " 1185.4499999999998,\n",
       " 1213.4499999999998,\n",
       " 1241.4499999999998,\n",
       " 1269.4499999999998,\n",
       " 1297.4499999999998,\n",
       " 1325.4499999999998,\n",
       " 1353.4499999999998]"
      ]
     },
     "execution_count": 44,
     "metadata": {},
     "output_type": "execute_result"
    }
   ],
   "source": []
  }
 ],
 "metadata": {
  "kernelspec": {
   "display_name": "Python 3",
   "language": "python",
   "name": "python3"
  },
  "language_info": {
   "codemirror_mode": {
    "name": "ipython",
    "version": 3
   },
   "file_extension": ".py",
   "mimetype": "text/x-python",
   "name": "python",
   "nbconvert_exporter": "python",
   "pygments_lexer": "ipython3",
   "version": "3.8.8"
  }
 },
 "nbformat": 4,
 "nbformat_minor": 2
}
