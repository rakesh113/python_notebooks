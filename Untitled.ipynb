{
 "cells": [
  {
   "cell_type": "code",
   "execution_count": 12,
   "id": "b9f1517c",
   "metadata": {},
   "outputs": [],
   "source": [
    "import pandas as pd\n",
    "from datetime import date"
   ]
  },
  {
   "cell_type": "code",
   "execution_count": 19,
   "id": "72fddc9e",
   "metadata": {},
   "outputs": [],
   "source": [
    "df = pd.read_excel(f\"C:\\\\Users\\\\Rakesh\\\\Downloads\\\\realizedPnl_report_2122_Future & Options.xlsx\")\n",
    "df = df[:143]"
   ]
  },
  {
   "cell_type": "code",
   "execution_count": 26,
   "id": "f68c91fb",
   "metadata": {},
   "outputs": [
    {
     "data": {
      "text/html": [
       "<div>\n",
       "<style scoped>\n",
       "    .dataframe tbody tr th:only-of-type {\n",
       "        vertical-align: middle;\n",
       "    }\n",
       "\n",
       "    .dataframe tbody tr th {\n",
       "        vertical-align: top;\n",
       "    }\n",
       "\n",
       "    .dataframe thead th {\n",
       "        text-align: right;\n",
       "    }\n",
       "</style>\n",
       "<table border=\"1\" class=\"dataframe\">\n",
       "  <thead>\n",
       "    <tr style=\"text-align: right;\">\n",
       "      <th></th>\n",
       "      <th>Total PL</th>\n",
       "      <th>Capital</th>\n",
       "    </tr>\n",
       "    <tr>\n",
       "      <th>Buy Date</th>\n",
       "      <th></th>\n",
       "      <th></th>\n",
       "    </tr>\n",
       "  </thead>\n",
       "  <tbody>\n",
       "    <tr>\n",
       "      <th>2022-02-01</th>\n",
       "      <td>-8652.50</td>\n",
       "      <td>91347.50</td>\n",
       "    </tr>\n",
       "    <tr>\n",
       "      <th>2022-02-02</th>\n",
       "      <td>4242.50</td>\n",
       "      <td>95590.00</td>\n",
       "    </tr>\n",
       "    <tr>\n",
       "      <th>2022-02-03</th>\n",
       "      <td>-1178.75</td>\n",
       "      <td>94411.25</td>\n",
       "    </tr>\n",
       "    <tr>\n",
       "      <th>2022-02-04</th>\n",
       "      <td>-93.75</td>\n",
       "      <td>94317.50</td>\n",
       "    </tr>\n",
       "    <tr>\n",
       "      <th>2022-02-07</th>\n",
       "      <td>-5755.00</td>\n",
       "      <td>88562.50</td>\n",
       "    </tr>\n",
       "    <tr>\n",
       "      <th>2022-02-08</th>\n",
       "      <td>2405.00</td>\n",
       "      <td>90967.50</td>\n",
       "    </tr>\n",
       "    <tr>\n",
       "      <th>2022-02-09</th>\n",
       "      <td>2720.00</td>\n",
       "      <td>93687.50</td>\n",
       "    </tr>\n",
       "    <tr>\n",
       "      <th>2022-02-10</th>\n",
       "      <td>3726.25</td>\n",
       "      <td>97413.75</td>\n",
       "    </tr>\n",
       "    <tr>\n",
       "      <th>2022-02-11</th>\n",
       "      <td>905.00</td>\n",
       "      <td>98318.75</td>\n",
       "    </tr>\n",
       "    <tr>\n",
       "      <th>2022-02-14</th>\n",
       "      <td>1858.75</td>\n",
       "      <td>100177.50</td>\n",
       "    </tr>\n",
       "    <tr>\n",
       "      <th>2022-02-15</th>\n",
       "      <td>2713.75</td>\n",
       "      <td>102891.25</td>\n",
       "    </tr>\n",
       "  </tbody>\n",
       "</table>\n",
       "</div>"
      ],
      "text/plain": [
       "            Total PL    Capital\n",
       "Buy Date                       \n",
       "2022-02-01  -8652.50   91347.50\n",
       "2022-02-02   4242.50   95590.00\n",
       "2022-02-03  -1178.75   94411.25\n",
       "2022-02-04    -93.75   94317.50\n",
       "2022-02-07  -5755.00   88562.50\n",
       "2022-02-08   2405.00   90967.50\n",
       "2022-02-09   2720.00   93687.50\n",
       "2022-02-10   3726.25   97413.75\n",
       "2022-02-11    905.00   98318.75\n",
       "2022-02-14   1858.75  100177.50\n",
       "2022-02-15   2713.75  102891.25"
      ]
     },
     "execution_count": 26,
     "metadata": {},
     "output_type": "execute_result"
    }
   ],
   "source": [
    "df = df[['Symbol','Total PL','Buy Date']]\n",
    "df['Buy Date'] = pd.to_datetime(df['Buy Date'], dayfirst=True)\n",
    "df1 = df.groupby('Buy Date').sum()\n",
    "df1['Capital'] = 100000 + df1['Total PL'].cumsum()\n",
    "df1"
   ]
  }
 ],
 "metadata": {
  "kernelspec": {
   "display_name": "Python 3",
   "language": "python",
   "name": "python3"
  },
  "language_info": {
   "codemirror_mode": {
    "name": "ipython",
    "version": 3
   },
   "file_extension": ".py",
   "mimetype": "text/x-python",
   "name": "python",
   "nbconvert_exporter": "python",
   "pygments_lexer": "ipython3",
   "version": "3.8.8"
  }
 },
 "nbformat": 4,
 "nbformat_minor": 5
}
