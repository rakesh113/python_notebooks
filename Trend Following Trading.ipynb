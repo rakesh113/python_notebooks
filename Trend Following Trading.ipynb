{
 "cells": [
  {
   "cell_type": "markdown",
   "metadata": {},
   "source": [
    "Get stocks from investing.com screener api,identify trending stocks => Monthly,Weekly,Daily,15 Min bullish with technical indicators of investing.com. select 10 stocks enter the trade at 9:45 after 3 15min candles, SL=>need to think, Target => 1:2 of SL or exit by 1:30pm(congifure)"
   ]
  },
  {
   "cell_type": "code",
   "execution_count": 38,
   "metadata": {
    "collapsed": true
   },
   "outputs": [],
   "source": [
    "import requests\n",
    "import pandas as pd\n",
    "import datetime"
   ]
  },
  {
   "cell_type": "code",
   "execution_count": 47,
   "metadata": {},
   "outputs": [],
   "source": [
    "url = 'https://in.investing.com/stock-screener/Service/SearchStocks'\n",
    "ref = \"https://in.investing.com/stock-screener/?sp=country::14|sector::a|industry::a|equityType::a|exchange::a|eq_market_cap::100000000000,19170000000000|avg_volume::1000000,375180000%3Etech_sum_900;1\"\n",
    "headers = {\n",
    "    'User-Agent': 'Mozilla/5.0 (Windows NT 10.0; Win64; x64; rv:89.0) Gecko/20100101 Firefox/89.0',\n",
    "    'Accept': 'application/json, text/javascript, */*; q=0.01',\n",
    "    'Accept-Language': 'en-US,en;q=0.5',\n",
    "    'Origin': 'https://in.investing.com',\n",
    "    'Referer': ref,\n",
    "    'Cache-Control':\"max-age=0\",\n",
    "    'Cookie': 'logglytrackingsession=07323ad2-a74d-4a6f-98f4-90a932517450; adBlockerNewUserDomains=1630943089; udid=e64b575659115b566ed82fb40634fb00; smd=e64b575659115b566ed82fb40634fb00-1630943089; __cf_bm=vhYKUoKp3mncQ_h_ccpj_Y4IVXvXfM7gpAOe9FYdKzE-1630943091-0-AczxPfuW/xtNu5ZiUZ8AbXopvSQk2UUoZKj/5aNRRHvGbRG0jlkCWIiRlvfn5cUVYMFaz0x+8+sjqipdbDDlRkJni23Dc2vKNFUNjMNFQB97UHGQmZE9aLhqIWQBGwIUKg==; _tz_id=aaab3c2f20aed40deebf5804d5df712b; geoC=IN; welcomePopup=1; nyxDorf=MzJlNWQsM20%2Faj0xMH00NDNjZDs0LTAwZmNgYg%3D%3D; StickySession=id.65515342739.580in.investing.com; __cflb=02DiuF9qvuxBvFEb2qB1HcuDLvqD9ieP5YjFwrW1HYSbv; _ga_H1WYEJQ780=GS1.1.1630943099.1.0.1630943105.54; _ga=GA1.1.1118678839.1630943099; PHPSESSID=skd4rppt5mrjulgl3b8acq7uq4; adsFreeSalePopUp=2; gtmFired=OK; adbBLk=56; G_ENABLED_IDPS=google; r_p_s_n=1'\n",
    "}\n",
    "head = {\n",
    "        \"User-Agent\": \"Mozilla/5.0 (Windows NT 10.0; Win64; x64; rv:89.0) Gecko/20100101 Firefox/89.0\",\n",
    "        \"X-Requested-With\": \"XMLHttpRequest\",\n",
    "        \"Accept\": \"text/html\",\n",
    "        \"Accept-Encoding\": \"gzip, deflate\",\n",
    "        \"Connection\": \"keep-alive\",\n",
    "    }\n",
    "params = {\n",
    "    \"country[]\":\"14\",\n",
    "    \"sector\":\"7,5,21,12,3,16,8,17,9,13,19,1,18,6,15,20,14,23,2,4,10,11,22\",\n",
    "    \"industry\":\"81,56,110,59,119,41,120,68,67,88,124,125,51,72,147,136,47,12,144,8,50,111,2,151,71,9,105,69,45,117,156,46,13,94,102,95,58,100,101,87,31,106,6,38,112,150,79,107,30,77,131,130,149,160,113,165,28,158,5,103,163,170,60,18,26,137,135,44,35,53,166,48,141,49,142,143,55,129,126,139,169,114,153,78,7,86,10,164,132,1,34,154,3,127,146,115,11,121,162,62,16,108,24,20,54,33,83,29,152,76,133,167,37,90,85,82,104,22,14,17,109,19,43,140,89,145,96,57,84,118,93,171,27,74,97,4,73,36,42,98,65,70,40,99,39,92,122,75,66,63,21,159,25,155,64,134,157,128,61,148,32,138,91,116,123,52,23,15,168,80,161\",\n",
    "    \"equityType\":\"ORD,DRC,Preferred,Unit,ClosedEnd,REIT,ELKS,OpenEnd,Right,ParticipationShare,CapitalSecurity,PerpetualCapitalSecurity,GuaranteeCertificate,IGC,Warrant,SeniorNote,Debenture,ETF,ADR,ETC\",\n",
    "    \"exchange[]\":{\n",
    "        0:\"74\",\n",
    "        1:\"46\"\n",
    "    },\n",
    "    \"eq_market_cap[min]\":\"100000000000\",\n",
    "    \"eq_market_cap[max]\":\"19170000000000\",\n",
    "    \"avg_volume[min]\":\"1000000\",\n",
    "    \"avg_volume[max]\":\"375180000\",\n",
    "    \"pn\":\"1\",\n",
    "    \"order[col]\":\"tech_sum_900\",\n",
    "    \"order[dir]\":\"a\"\n",
    "}"
   ]
  },
  {
   "cell_type": "code",
   "execution_count": 1,
   "metadata": {},
   "outputs": [
    {
     "ename": "NameError",
     "evalue": "name 'requests' is not defined",
     "output_type": "error",
     "traceback": [
      "\u001b[1;31m---------------------------------------------------------------------------\u001b[0m",
      "\u001b[1;31mNameError\u001b[0m                                 Traceback (most recent call last)",
      "\u001b[1;32m<ipython-input-1-3c0bc7d556f2>\u001b[0m in \u001b[0;36m<module>\u001b[1;34m\u001b[0m\n\u001b[1;32m----> 1\u001b[1;33m \u001b[0mreq\u001b[0m \u001b[1;33m=\u001b[0m \u001b[0mrequests\u001b[0m\u001b[1;33m.\u001b[0m\u001b[0mpost\u001b[0m\u001b[1;33m(\u001b[0m\u001b[0murl\u001b[0m\u001b[1;33m,\u001b[0m \u001b[0mheaders\u001b[0m\u001b[1;33m=\u001b[0m\u001b[0mhead\u001b[0m\u001b[1;33m,\u001b[0m \u001b[0mdata\u001b[0m\u001b[1;33m=\u001b[0m\u001b[0mparams\u001b[0m\u001b[1;33m)\u001b[0m\u001b[1;33m\u001b[0m\u001b[1;33m\u001b[0m\u001b[0m\n\u001b[0m\u001b[0;32m      2\u001b[0m \u001b[1;31m#resp = response.json()\u001b[0m\u001b[1;33m\u001b[0m\u001b[1;33m\u001b[0m\u001b[1;33m\u001b[0m\u001b[0m\n\u001b[0;32m      3\u001b[0m \u001b[0mreq\u001b[0m\u001b[1;33m.\u001b[0m\u001b[0mstatus_code\u001b[0m\u001b[1;33m\u001b[0m\u001b[1;33m\u001b[0m\u001b[0m\n",
      "\u001b[1;31mNameError\u001b[0m: name 'requests' is not defined"
     ]
    }
   ],
   "source": [
    "req = requests.post(url, headers=head, data=params)\n",
    "#resp = response.json()\n",
    "req.status_code"
   ]
  },
  {
   "cell_type": "code",
   "execution_count": 49,
   "metadata": {},
   "outputs": [
    {
     "name": "stdout",
     "output_type": "stream",
     "text": [
      "total count 198\n"
     ]
    }
   ],
   "source": [
    "res = req.json()\n",
    "print(\"total count\",res[\"totalCount\"])\n",
    "response = res[\"hits\"]"
   ]
  },
  {
   "cell_type": "code",
   "execution_count": 23,
   "metadata": {
    "collapsed": true
   },
   "outputs": [],
   "source": [
    "cols = [\"tech_sum_900_constant\",\"tech_sum_3600_constant\",\"tech_sum_86400_constant\",\"tech_sum_week_constant\",\"tech_sum_month_constant\"]"
   ]
  },
  {
   "cell_type": "code",
   "execution_count": 50,
   "metadata": {},
   "outputs": [],
   "source": [
    "stocks = []\n",
    "for obj in response:\n",
    "    buy_trend = True\n",
    "    for c in cols:\n",
    "        buy_trend &= obj[c] == 'Strong Buy'\n",
    "    if buy_trend == True:\n",
    "        stock = {\n",
    "            \"symbol\":obj[\"stock_symbol\"],\n",
    "            \"name\":obj[\"name_trans\"],\n",
    "            \"price\":obj[\"last\"],\n",
    "            \"atr\":obj[\"ATR\"]\n",
    "        }\n",
    "        stocks.append(stock)"
   ]
  },
  {
   "cell_type": "code",
   "execution_count": 51,
   "metadata": {},
   "outputs": [
    {
     "data": {
      "text/plain": [
       "[{'atr': 4.925,\n",
       "  'name': 'Bharat Electronics',\n",
       "  'price': 197.05,\n",
       "  'symbol': 'BAJE'},\n",
       " {'atr': 4.9464,\n",
       "  'name': 'Indian Hotels Co.',\n",
       "  'price': 150.8,\n",
       "  'symbol': 'IHTL'},\n",
       " {'atr': 18.0214, 'name': 'Adani Ports & SEZ', 'price': 749, 'symbol': 'APSE'},\n",
       " {'atr': 21.7643, 'name': 'Bharti Airtel', 'price': 686.15, 'symbol': 'BRTI'},\n",
       " {'atr': 4.7929,\n",
       "  'name': 'National Aluminum Co.',\n",
       "  'price': 97.95,\n",
       "  'symbol': 'NALU'},\n",
       " {'atr': 33.1429, 'name': 'Voltas', 'price': 1213.1, 'symbol': 'VOLT'},\n",
       " {'atr': 17.9, 'name': 'Zensar Tech', 'price': 467.8, 'symbol': 'ZENT'},\n",
       " {'atr': 3.1321, 'name': 'Tata Power Co.', 'price': 132.75, 'symbol': 'TTPW'},\n",
       " {'atr': 16.1143,\n",
       "  'name': 'Crompton Greaves Consumer Electricals Ltd',\n",
       "  'price': 492.2,\n",
       "  'symbol': 'CROP'},\n",
       " {'atr': 0.6, 'name': 'NHPC', 'price': 27.45, 'symbol': 'NHPC'},\n",
       " {'atr': 14.5357,\n",
       "  'name': 'Hindalco Industries',\n",
       "  'price': 463.55,\n",
       "  'symbol': 'HALC'},\n",
       " {'atr': 12.4071,\n",
       "  'name': 'Jindal Steel&Power',\n",
       "  'price': 400.15,\n",
       "  'symbol': 'JNSP'},\n",
       " {'atr': 13.7643, 'name': 'Marico', 'price': 575, 'symbol': 'MRCO'},\n",
       " {'atr': 20.3571, 'name': 'Cipla', 'price': 949.3, 'symbol': 'CIPL'},\n",
       " {'atr': 40.9, 'name': 'Tata Steel Ltd', 'price': 1447, 'symbol': 'TISC'},\n",
       " {'atr': 14.5679, 'name': 'Nippon India', 'price': 440.25, 'symbol': 'NIPF'},\n",
       " {'atr': 15.0429,\n",
       "  'name': 'Shyam Metalics and Energy',\n",
       "  'price': 405.8,\n",
       "  'symbol': 'SHYE'}]"
      ]
     },
     "execution_count": 51,
     "metadata": {},
     "output_type": "execute_result"
    }
   ],
   "source": [
    "stocks"
   ]
  },
  {
   "cell_type": "code",
   "execution_count": 46,
   "metadata": {},
   "outputs": [],
   "source": [
    "def check_price(scrip):\n",
    "    price = 0.0\n",
    "    return price\n",
    "\n",
    "class Order:\n",
    "    \n",
    "    def __init__(self, script, ordertype, buy_val, sell_val, quantity, target, stoploss):\n",
    "        self.script = script\n",
    "        assert (ordertype == 'buy' or ordertype == 'sell'), \"order should be buy or sell\"\n",
    "        self.ordertype = ordertype\n",
    "        self.buy_val = buy_val\n",
    "        self.sell_val = sell_val\n",
    "        self.pnl = 0.0\n",
    "        self.quantity = quantity\n",
    "        #if(target is not NaN and target != 0):\n",
    "        self.target = target\n",
    "        self.stoploss = stoploss\n",
    "    \n",
    "    def computestatus(self, currprice):\n",
    "        price = 0\n",
    "        if(ordertype == 'buy'):\n",
    "            price = self.buy_val\n",
    "            if(currprice >= self.target or currprice <= self.stoploss):\n",
    "                self.sell_val = currprice\n",
    "        else:\n",
    "            price = self.sell_val\n",
    "            if(currprice <= self.target or currprice >= self.stoploss):\n",
    "                self.buy_val = currprice\n",
    "        cancelOrderdersOnMarketEnd(currprice)\n",
    "    \n",
    "    def add_date_time(date, hours, minutes):\n",
    "        return datetime.datetime.combine(date,datetime.time(hours,minutes))\n",
    "    \n",
    "    def cancelOrderdersOnMarketEnd(self,currprice):\n",
    "        curr_time = datetime.datetime.now()\n",
    "        square_off_time = add_date_time(datetime.datetime(curr_time.year, curr_time.month, curr_time.day), 13,0)\n",
    "        if(curr_time > square_off_time):\n",
    "            if(ordertype == 'buy'):\n",
    "                self.sell_val = currprice\n",
    "            else:\n",
    "                self.buy_val = currprice\n",
    "        \n",
    "    def pnl(self):\n",
    "        if(self.ordertype == 'buy'):\n",
    "            return (self.sell_val - self.buy_val) * quantity\n",
    "        else:\n",
    "            return (self.sell_val - self.buy_val) * quantity\n",
    "    \n",
    "    def toStr(self):\n",
    "        print(f'script:{self.script}, ordertype:{self.ordertype}, buy:{self.buy_val}, sell:{self.sell_val}, quantity:{self.quantity}')\n",
    "        \n",
    "\n",
    "class OrderBook:\n",
    "    \n",
    "    def __init__(self):\n",
    "        self.orders = []\n",
    "    \n",
    "    def get_orders(self):\n",
    "        return self.orders\n",
    "        \n",
    "    def neworder(self, order):\n",
    "        self.orders.append(order)\n",
    "        \n",
    "    def addorders(self, orders):\n",
    "        for o in orders:\n",
    "            self.neworder(o)\n",
    "        \n",
    "    def pnl(self):\n",
    "        pnl = 0\n",
    "        for o in self.orders:\n",
    "            if(o.ordertype == 'buy'):\n",
    "                pnl -= o.buy_val * o.quantity\n",
    "            else:\n",
    "                pnl += o.sell_val * o.quantity\n",
    "        return pnl\n",
    "    \n",
    "    def printorders(self):\n",
    "        for o in self.orders:\n",
    "            o.toStr()  "
   ]
  },
  {
   "cell_type": "code",
   "execution_count": 42,
   "metadata": {},
   "outputs": [
    {
     "data": {
      "text/plain": [
       "9"
      ]
     },
     "execution_count": 42,
     "metadata": {},
     "output_type": "execute_result"
    }
   ],
   "source": [
    "d=datetime.datetime.now()\n",
    "d.month"
   ]
  },
  {
   "cell_type": "code",
   "execution_count": null,
   "metadata": {
    "collapsed": true
   },
   "outputs": [],
   "source": [
    "book = OrderBook()\n",
    "trading_stocks = stocks[:10]\n",
    "for stock in trading_stocks:\n",
    "    book.neworder(Order(stock[\"name\"], 'sell', 0, check_price(stock[\"symbol\"]), 25, 0, 0))\n",
    "\n",
    "def manage_orders(book, trading_stocks):\n",
    "    for order in book.get_orders():\n",
    "        curr_price = check_price(order.script)\n",
    "        order.computestatus(curr_price)"
   ]
  },
  {
   "cell_type": "code",
   "execution_count": 37,
   "metadata": {},
   "outputs": [
    {
     "data": {
      "text/plain": [
       "[{'name': 'Bharat Electronics', 'price': 197.05, 'symbol': 'BAJE'},\n",
       " {'name': 'Indian Hotels Co.', 'price': 150.8, 'symbol': 'IHTL'},\n",
       " {'name': 'Adani Ports & SEZ', 'price': 749, 'symbol': 'APSE'},\n",
       " {'name': 'Crompton Greaves Consumer Electricals Ltd',\n",
       "  'price': 492.2,\n",
       "  'symbol': 'CROP'},\n",
       " {'name': 'Tata Power Co.', 'price': 132.75, 'symbol': 'TTPW'}]"
      ]
     },
     "execution_count": 37,
     "metadata": {},
     "output_type": "execute_result"
    }
   ],
   "source": [
    "stocks[:5]"
   ]
  }
 ],
 "metadata": {
  "kernelspec": {
   "display_name": "Python 3",
   "language": "python",
   "name": "python3"
  },
  "language_info": {
   "codemirror_mode": {
    "name": "ipython",
    "version": 3
   },
   "file_extension": ".py",
   "mimetype": "text/x-python",
   "name": "python",
   "nbconvert_exporter": "python",
   "pygments_lexer": "ipython3",
   "version": "3.8.8"
  }
 },
 "nbformat": 4,
 "nbformat_minor": 2
}
