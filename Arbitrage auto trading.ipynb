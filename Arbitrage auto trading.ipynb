{
 "cells": [
  {
   "cell_type": "code",
   "execution_count": 1,
   "metadata": {},
   "outputs": [],
   "source": [
    "from RUtils import *"
   ]
  },
  {
   "cell_type": "code",
   "execution_count": 4,
   "metadata": {},
   "outputs": [
    {
     "data": {
      "text/html": [
       "<div>\n",
       "<style scoped>\n",
       "    .dataframe tbody tr th:only-of-type {\n",
       "        vertical-align: middle;\n",
       "    }\n",
       "\n",
       "    .dataframe tbody tr th {\n",
       "        vertical-align: top;\n",
       "    }\n",
       "\n",
       "    .dataframe thead th {\n",
       "        text-align: right;\n",
       "    }\n",
       "</style>\n",
       "<table border=\"1\" class=\"dataframe\">\n",
       "  <thead>\n",
       "    <tr style=\"text-align: right;\">\n",
       "      <th></th>\n",
       "      <th>col1</th>\n",
       "      <th>col2</th>\n",
       "      <th>col3</th>\n",
       "    </tr>\n",
       "  </thead>\n",
       "  <tbody>\n",
       "    <tr>\n",
       "      <th>0</th>\n",
       "      <td>3</td>\n",
       "      <td>8</td>\n",
       "      <td>0.375000</td>\n",
       "    </tr>\n",
       "    <tr>\n",
       "      <th>1</th>\n",
       "      <td>2</td>\n",
       "      <td>7</td>\n",
       "      <td>0.285714</td>\n",
       "    </tr>\n",
       "    <tr>\n",
       "      <th>2</th>\n",
       "      <td>4</td>\n",
       "      <td>9</td>\n",
       "      <td>0.444444</td>\n",
       "    </tr>\n",
       "    <tr>\n",
       "      <th>3</th>\n",
       "      <td>6</td>\n",
       "      <td>11</td>\n",
       "      <td>0.545455</td>\n",
       "    </tr>\n",
       "    <tr>\n",
       "      <th>4</th>\n",
       "      <td>31</td>\n",
       "      <td>36</td>\n",
       "      <td>0.861111</td>\n",
       "    </tr>\n",
       "    <tr>\n",
       "      <th>5</th>\n",
       "      <td>5</td>\n",
       "      <td>10</td>\n",
       "      <td>0.500000</td>\n",
       "    </tr>\n",
       "    <tr>\n",
       "      <th>6</th>\n",
       "      <td>12</td>\n",
       "      <td>17</td>\n",
       "      <td>0.705882</td>\n",
       "    </tr>\n",
       "  </tbody>\n",
       "</table>\n",
       "</div>"
      ],
      "text/plain": [
       "   col1  col2      col3\n",
       "0     3     8  0.375000\n",
       "1     2     7  0.285714\n",
       "2     4     9  0.444444\n",
       "3     6    11  0.545455\n",
       "4    31    36  0.861111\n",
       "5     5    10  0.500000\n",
       "6    12    17  0.705882"
      ]
     },
     "execution_count": 4,
     "metadata": {},
     "output_type": "execute_result"
    }
   ],
   "source": [
    "df=pd.DataFrame([3,2,4,6,31,5,12],columns=['col1'])\n",
    "df['col2'] = df['col1']+5\n",
    "df['col3'] = df['col1']/df['col2']\n",
    "df"
   ]
  },
  {
   "cell_type": "code",
   "execution_count": 3,
   "metadata": {},
   "outputs": [],
   "source": [
    "%load_ext autoreload"
   ]
  },
  {
   "cell_type": "code",
   "execution_count": 4,
   "metadata": {},
   "outputs": [],
   "source": [
    "%autoreload 2"
   ]
  },
  {
   "cell_type": "code",
   "execution_count": 21,
   "metadata": {},
   "outputs": [],
   "source": [
    "EXPIRY_DATE = \"28-Oct-2021\"\n",
    "stop = False"
   ]
  },
  {
   "cell_type": "code",
   "execution_count": 22,
   "metadata": {},
   "outputs": [
    {
     "name": "stdout",
     "output_type": "stream",
     "text": [
      "2021-10-25 12:05:24.322598       Company    Future      Spot  Change\n",
      "0     PAGEIND  37200.00  37052.05   61.05\n",
      "1  BAJAJFINSV  18421.80  18343.80   27.55\n",
      "2    BOSCHLTD  16758.80  16720.45    8.75\n",
      "3   INDIAMART   7490.70   7460.55  114.00\n",
      "4  ULTRACEMCO   7140.05   7120.15    9.40\n",
      "2021-10-25 12:05:30.306965       Company    Future      Spot  Change\n",
      "0     PAGEIND  37200.00  37052.05   61.05\n",
      "1  BAJAJFINSV  18421.80  18343.80   27.55\n",
      "2    BOSCHLTD  16758.80  16720.45    8.75\n",
      "3   INDIAMART   7490.70   7460.55  114.00\n",
      "4  ULTRACEMCO   7140.05   7120.15    9.40\n",
      "2021-10-25 12:05:36.067781       Company    Future      Spot  Change\n",
      "0     PAGEIND  37200.00  37052.05   61.05\n",
      "1  BAJAJFINSV  18421.80  18343.80   27.55\n",
      "2    BOSCHLTD  16758.80  16720.45    8.75\n",
      "3   INDIAMART   7490.70   7460.55  114.00\n",
      "4  ULTRACEMCO   7140.05   7120.15    9.40\n"
     ]
    },
    {
     "ename": "KeyboardInterrupt",
     "evalue": "",
     "output_type": "error",
     "traceback": [
      "\u001b[1;31m---------------------------------------------------------------------------\u001b[0m",
      "\u001b[1;31mKeyboardInterrupt\u001b[0m                         Traceback (most recent call last)",
      "\u001b[1;32m<ipython-input-22-9f43716e713b>\u001b[0m in \u001b[0;36m<module>\u001b[1;34m\u001b[0m\n\u001b[0;32m      5\u001b[0m     \u001b[0mscripts\u001b[0m \u001b[1;33m=\u001b[0m \u001b[0mget_arbitrage_scripts\u001b[0m\u001b[1;33m(\u001b[0m\u001b[1;33m)\u001b[0m\u001b[1;33m[\u001b[0m\u001b[1;33m:\u001b[0m\u001b[1;36m5\u001b[0m\u001b[1;33m]\u001b[0m\u001b[1;33m\u001b[0m\u001b[1;33m\u001b[0m\u001b[0m\n\u001b[0;32m      6\u001b[0m     \u001b[0mprint\u001b[0m\u001b[1;33m(\u001b[0m\u001b[0mdatetime\u001b[0m\u001b[1;33m.\u001b[0m\u001b[0mdatetime\u001b[0m\u001b[1;33m.\u001b[0m\u001b[0mnow\u001b[0m\u001b[1;33m(\u001b[0m\u001b[1;33m)\u001b[0m\u001b[1;33m,\u001b[0m \u001b[0mscripts\u001b[0m\u001b[1;33m[\u001b[0m\u001b[1;33m[\u001b[0m\u001b[1;34m'Company'\u001b[0m\u001b[1;33m,\u001b[0m\u001b[1;34m'Future'\u001b[0m\u001b[1;33m,\u001b[0m\u001b[1;34m'Spot'\u001b[0m\u001b[1;33m,\u001b[0m\u001b[1;34m'Change'\u001b[0m\u001b[1;33m]\u001b[0m\u001b[1;33m]\u001b[0m\u001b[1;33m)\u001b[0m\u001b[1;33m\u001b[0m\u001b[1;33m\u001b[0m\u001b[0m\n\u001b[1;32m----> 7\u001b[1;33m     \u001b[0mtime\u001b[0m\u001b[1;33m.\u001b[0m\u001b[0msleep\u001b[0m\u001b[1;33m(\u001b[0m\u001b[1;36m5\u001b[0m\u001b[1;33m)\u001b[0m\u001b[1;33m\u001b[0m\u001b[1;33m\u001b[0m\u001b[0m\n\u001b[0m",
      "\u001b[1;31mKeyboardInterrupt\u001b[0m: "
     ]
    }
   ],
   "source": [
    "import time\n",
    "for i in range(90):\n",
    "    if stop:\n",
    "        break\n",
    "    scripts = get_arbitrage_scripts()[:5]\n",
    "    print(datetime.datetime.now(), scripts[['Company','Future','Spot','Change']])\n",
    "    time.sleep(5)"
   ]
  },
  {
   "cell_type": "code",
   "execution_count": 3,
   "metadata": {},
   "outputs": [
    {
     "data": {
      "application/javascript": [
       "(function(on) {\n",
       "const e=$( \"<a>Setup failed</a>\" );\n",
       "const ns=\"js_jupyter_suppress_warnings\";\n",
       "var cssrules=$(\"#\"+ns);\n",
       "if(!cssrules.length) cssrules = $(\"<style id='\"+ns+\"' type='text/css'>div.output_stderr { } </style>\").appendTo(\"head\");\n",
       "e.click(function() {\n",
       "    var s='Showing';  \n",
       "    cssrules.empty()\n",
       "    if(on) {\n",
       "        s='Hiding';\n",
       "        cssrules.append(\"div.output_stderr, div[data-mime-type*='.stderr'] { display:none; }\");\n",
       "    }\n",
       "    e.text(s+' warnings (click to toggle)');\n",
       "    on=!on;\n",
       "}).click();\n",
       "$(element).append(e);\n",
       "})(true);\n"
      ],
      "text/plain": [
       "<IPython.core.display.Javascript object>"
      ]
     },
     "metadata": {},
     "output_type": "display_data"
    }
   ],
   "source": [
    "%%javascript\n",
    "(function(on) {\n",
    "const e=$( \"<a>Setup failed</a>\" );\n",
    "const ns=\"js_jupyter_suppress_warnings\";\n",
    "var cssrules=$(\"#\"+ns);\n",
    "if(!cssrules.length) cssrules = $(\"<style id='\"+ns+\"' type='text/css'>div.output_stderr { } </style>\").appendTo(\"head\");\n",
    "e.click(function() {\n",
    "    var s='Showing';  \n",
    "    cssrules.empty()\n",
    "    if(on) {\n",
    "        s='Hiding';\n",
    "        cssrules.append(\"div.output_stderr, div[data-mime-type*='.stderr'] { display:none; }\");\n",
    "    }\n",
    "    e.text(s+' warnings (click to toggle)');\n",
    "    on=!on;\n",
    "}).click();\n",
    "$(element).append(e);\n",
    "})(true);"
   ]
  },
  {
   "cell_type": "code",
   "execution_count": 43,
   "metadata": {},
   "outputs": [
    {
     "name": "stdout",
     "output_type": "stream",
     "text": [
      "asasda\n"
     ]
    }
   ],
   "source": []
  },
  {
   "cell_type": "code",
   "execution_count": 34,
   "metadata": {},
   "outputs": [
    {
     "data": {
      "text/plain": [
       "'a a'"
      ]
     },
     "execution_count": 34,
     "metadata": {},
     "output_type": "execute_result"
    }
   ],
   "source": [
    "\"  a a \".strip()"
   ]
  },
  {
   "cell_type": "code",
   "execution_count": 70,
   "metadata": {},
   "outputs": [],
   "source": [
    "book = OrderBook()"
   ]
  },
  {
   "cell_type": "code",
   "execution_count": 71,
   "metadata": {},
   "outputs": [
    {
     "name": "stdout",
     "output_type": "stream",
     "text": [
      "current interrest rate: 3.3937 %\n"
     ]
    },
    {
     "data": {
      "application/vnd.jupyter.widget-view+json": {
       "model_id": "de802dac32114c5aa4be968df72a1c3f",
       "version_major": 2,
       "version_minor": 0
      },
      "text/plain": [
       "  0%|          | 0/50 [00:00<?, ?it/s]"
      ]
     },
     "metadata": {},
     "output_type": "display_data"
    },
    {
     "name": "stdout",
     "output_type": "stream",
     "text": [
      "       script      CE      PE  future_price  profit\n",
      "0          LT   51.00   29.65        1763.0  948.75\n",
      "0    TATACHEM   69.00   47.25        1122.4  650.00\n",
      "0  BAJFINANCE  299.85  247.30        7954.7  268.75\n",
      "0    RELIANCE   73.70   51.20        2703.0  125.00\n",
      "0     DRREDDY  145.50  110.15        4936.0   81.25\n"
     ]
    }
   ],
   "source": [
    "book.add_orders(getScriptsAndPlaceOrders())"
   ]
  },
  {
   "cell_type": "code",
   "execution_count": 32,
   "metadata": {},
   "outputs": [
    {
     "data": {
      "text/plain": [
       "[<RUtils.Basket at 0x2a783c7f3a0>, <RUtils.Basket at 0x2a7814644f0>]"
      ]
     },
     "execution_count": 32,
     "metadata": {},
     "output_type": "execute_result"
    }
   ],
   "source": [
    "import file"
   ]
  },
  {
   "cell_type": "code",
   "execution_count": 14,
   "metadata": {},
   "outputs": [
    {
     "data": {
      "text/plain": [
       "{'strike': 4600,\n",
       " 'script': 'DRREDDY',\n",
       " 'future_price': 4639.65,\n",
       " 'put_price': 48,\n",
       " 'call_price': 73.05}"
      ]
     },
     "execution_count": 14,
     "metadata": {},
     "output_type": "execute_result"
    }
   ],
   "source": [
    "fetch_latest_prices(4600, 'DRREDDY')"
   ]
  },
  {
   "cell_type": "code",
   "execution_count": 50,
   "metadata": {},
   "outputs": [
    {
     "name": "stdout",
     "output_type": "stream",
     "text": [
      "################################# Loading at 100 percent!..**..**\n"
     ]
    }
   ],
   "source": [
    "import time\n",
    "\n",
    "n = 33  # or however many loading slots you want to have\n",
    "load = 0.1  # artificial loading time!\n",
    "loading = '.' * n  # for strings, * is the repeat operator\n",
    "\n",
    "for i in range(n+1):\n",
    "    # this loop replaces each dot with a hash!\n",
    "    print('\\r%s Loading at %3d percent!' % (loading, i*100/n), end='..**')\n",
    "    loading = loading[:i] + '#' + loading[i+1:]\n",
    "    time.sleep(load)\n",
    "    if i==n: print()"
   ]
  },
  {
   "cell_type": "code",
   "execution_count": 68,
   "metadata": {},
   "outputs": [
    {
     "data": {
      "application/vnd.jupyter.widget-view+json": {
       "model_id": "fd201dc90f1146609ebbac7b64f1e11c",
       "version_major": 2,
       "version_minor": 0
      },
      "text/plain": [
       "  0%|          | 0/50 [00:00<?, ?it/s]"
      ]
     },
     "metadata": {},
     "output_type": "display_data"
    }
   ],
   "source": [
    "from tqdm.auto import tqdm\n",
    "m = 50\n",
    "for i in tqdm(range(50)):\n",
    "    time.sleep(0.5)"
   ]
  },
  {
   "cell_type": "code",
   "execution_count": 27,
   "metadata": {},
   "outputs": [
    {
     "data": {
      "text/plain": [
       "'A1'"
      ]
     },
     "execution_count": 27,
     "metadata": {},
     "output_type": "execute_result"
    }
   ],
   "source": [
    "df1 = pd.DataFrame({\n",
    "\n",
    "    'col1': ['A', 'A', 'B', np.nan, 'D', 'C'],\n",
    "\n",
    "    'col2': [2, 1, 9, 8, 7, 4],\n",
    "\n",
    "    'col3': [0, 1, 9, 4, 2, 3],\n",
    "\n",
    "    'col4': ['a', 'B', 'c', 'D', 'e', 'F']\n",
    "\n",
    "})\n",
    "df2 = pd.DataFrame({\n",
    "\n",
    "    'col1': ['A1', 'A1', 'B1', np.nan, 'D1', 'C1'],\n",
    "\n",
    "    'col2': [2, 1, 9, 8, 7, 4],\n",
    "\n",
    "    'col3': [0, 1, 9, 4, 2, 3],\n",
    "\n",
    "    'col4': ['a1', 'B1', 'c1', 'D', 'e', 'F']\n",
    "\n",
    "})\n",
    "df2['col1'].iloc[1]"
   ]
  },
  {
   "cell_type": "code",
   "execution_count": 428,
   "metadata": {},
   "outputs": [
    {
     "name": "stderr",
     "output_type": "stream",
     "text": [
      "<ipython-input-403-19f2dfd8ea37>:75: RuntimeWarning: divide by zero encountered in true_divide\n",
      "  return np.divide((log(S/K)+(r+sigma**2/2.)*T), (sigma*sqrt(T)))\n",
      "<ipython-input-403-19f2dfd8ea37>:135: RuntimeWarning: invalid value encountered in double_scalars\n",
      "  return norm.pdf(d1(S,K,T,r,sigma))/(S*sigma*sqrt(T))\n",
      "<ipython-input-403-19f2dfd8ea37>:140: RuntimeWarning: invalid value encountered in double_scalars\n",
      "  return 0.01*(-(S*norm.pdf(d1(S,K,T,r,sigma))*sigma)/(2*sqrt(T)) - r*K*exp(-r*T)*norm.cdf(d2(S,K,T,r,sigma)))\n",
      "<ipython-input-403-19f2dfd8ea37>:142: RuntimeWarning: invalid value encountered in double_scalars\n",
      "  return 0.01*(-(S*norm.pdf(d1(S,K,T,r,sigma))*sigma)/(2*sqrt(T)) + r*K*exp(-r*T)*norm.cdf(-d2(S,K,T,r,sigma)))\n",
      "<ipython-input-403-19f2dfd8ea37>:75: RuntimeWarning: invalid value encountered in true_divide\n",
      "  return np.divide((log(S/K)+(r+sigma**2/2.)*T), (sigma*sqrt(T)))\n"
     ]
    },
    {
     "name": "stdout",
     "output_type": "stream",
     "text": [
      "call= 241.0 put= 0.0 future= 37741.14\n"
     ]
    },
    {
     "data": {
      "image/png": "[encoded data removed]",
      "text/plain": [
       "<Figure size 432x288 with 1 Axes>"
      ]
     },
     "metadata": {
      "needs_background": "light"
     },
     "output_type": "display_data"
    }
   ],
   "source": [
    "inp = np.arange(35000,40000, 100)\n",
    "spot=37741\n",
    "strike_price=37500\n",
    "time_to_expiration=0/365.0\n",
    "future_expiry = 15/365.0\n",
    "call_prem = call_premium(spot, strike_price, time_to_expiration, risk_free_rate, 0.2178)['price']\n",
    "put_prem = put_premium(spot, strike_price, time_to_expiration, risk_free_rate, 0.2173)['price']\n",
    "future_prem = FuturePrice(spot, 0, 0, risk_free_rate, future_expiry/365.0)['price']\n",
    "\n",
    "call_market_prem = 383.45\n",
    "put_market_prem = 131.65\n",
    "future_market_prem = 37866.25\n",
    "\n",
    "print(\"call=\",call_prem,\"put=\",put_prem, \"future=\",future_prem)\n",
    "call_prices = [call_premium(x, strike_price, time_to_expiration, risk_free_rate, volatility)['price'] - call_market_prem for x in inp]\n",
    "put_prices = [put_market_prem - put_premium(x, strike_price, time_to_expiration, risk_free_rate, volatility)['price'] for x in inp]\n",
    "#plt.plot(inp, prices2)\n",
    "#plt.plot(inp, prices1)\n",
    "future_prices = [future_market_prem - FuturePrice(x, 0, 0, risk_free_rate, future_expiry)['price'] for x in inp]\n",
    "result = [round(call_prices[x]+put_prices[x]+future_prices[x],2) for x in range(0,len(prices1))]\n",
    "plt.plot(inp, result)\n",
    "#plt.axis([inp[0]-100,inp[-1]+100,-100,100])\n",
    "plt.axvline(x=strike_price, c=\"black\", label=\"x=\"+str(strike_price))\n",
    "plt.axhline(y=0, c=\"black\", label=\"y=0\")\n",
    "plt.legend()\n",
    "plt.show()"
   ]
  },
  {
   "cell_type": "code",
   "execution_count": 235,
   "metadata": {},
   "outputs": [
    {
     "ename": "SyntaxError",
     "evalue": "invalid syntax (<ipython-input-235-8cb452b29dd0>, line 1)",
     "output_type": "error",
     "traceback": [
      "\u001b[1;36m  File \u001b[1;32m\"<ipython-input-235-8cb452b29dd0>\"\u001b[1;36m, line \u001b[1;32m1\u001b[0m\n\u001b[1;33m    [1,2,3,4,5].in(2)\u001b[0m\n\u001b[1;37m                ^\u001b[0m\n\u001b[1;31mSyntaxError\u001b[0m\u001b[1;31m:\u001b[0m invalid syntax\n"
     ]
    }
   ],
   "source": [
    "import schedule\n",
    "import time\n",
    "\n",
    "def arb_job():\n",
    "    t = datetime.datetime.now()\n",
    "    get_arbitrage_scripts()[:10]"
   ]
  },
  {
   "cell_type": "code",
   "execution_count": 6,
   "metadata": {},
   "outputs": [],
   "source": [
    "import time\n",
    "import datetime\n",
    "\n",
    "t=datetime.datetime.now()\n"
   ]
  },
  {
   "cell_type": "code",
   "execution_count": 13,
   "metadata": {},
   "outputs": [
    {
     "data": {
      "text/plain": [
       "True"
      ]
     },
     "execution_count": 13,
     "metadata": {},
     "output_type": "execute_result"
    }
   ],
   "source": [
    "t>datetime.datetime(t.year, t.month, t.day, 15, 20)"
   ]
  },
  {
   "cell_type": "code",
   "execution_count": 12,
   "metadata": {},
   "outputs": [
    {
     "data": {
      "text/plain": [
       "20"
      ]
     },
     "execution_count": 12,
     "metadata": {},
     "output_type": "execute_result"
    }
   ],
   "source": [
    "t.hour"
   ]
  },
  {
   "cell_type": "code",
   "execution_count": null,
   "metadata": {},
   "outputs": [],
   "source": [
    "#set plot properties\n",
    "plt.style.use('ggplot')\n",
    "plt.rcParams['xtick.labelsize'] = 20\n",
    "plt.rcParams['ytick.labelsize'] = 20\n",
    "plt.rcParams['figure.titlesize'] = 22\n",
    "plt.rcParams['figure.titleweight'] = 'medium'\n",
    "plt.rcParams['lines.linewidth'] = 3"
   ]
  }
 ],
 "metadata": {
  "kernelspec": {
   "display_name": "Python 3",
   "language": "python",
   "name": "python3"
  },
  "language_info": {
   "codemirror_mode": {
    "name": "ipython",
    "version": 3
   },
   "file_extension": ".py",
   "mimetype": "text/x-python",
   "name": "python",
   "nbconvert_exporter": "python",
   "pygments_lexer": "ipython3",
   "version": "3.8.8"
  }
 },
 "nbformat": 4,
 "nbformat_minor": 2
}
